{
  "nbformat": 4,
  "nbformat_minor": 0,
  "metadata": {
    "colab": {
      "provenance": [],
      "authorship_tag": "ABX9TyMSQcCq4Z5dizi6d6mQgDot",
      "include_colab_link": true
    },
    "kernelspec": {
      "name": "python3",
      "display_name": "Python 3"
    },
    "language_info": {
      "name": "python"
    }
  },
  "cells": [
    {
      "cell_type": "markdown",
      "metadata": {
        "id": "view-in-github",
        "colab_type": "text"
      },
      "source": [
        "<a href=\"https://colab.research.google.com/github/Squigspear/xCyberLLM/blob/main/Tutorial_1_Prompting_ChatGPT_for_Cybersecurity.ipynb\" target=\"_parent\"><img src=\"https://colab.research.google.com/assets/colab-badge.svg\" alt=\"Open In Colab\"/></a>"
      ]
    },
    {
      "cell_type": "markdown",
      "source": [
        "# Prompt engineering with ChatGPT for Cybersecurity\n",
        "\n",
        "This notebook contains prompts for ChatGPT illustrating how it can assist cybersecurity experts.\n",
        "\n",
        "ChatGPT 3.5 is used for these experiments,\n",
        "\n",
        ">https://chat.openai.com/chat\n",
        "\n",
        "It contains prompts for the following experiments:\n",
        "\n",
        "> **Exercise 1**: Writing search queries,\n",
        "\n",
        "> **Exercise 2**: Analysing search results,\n",
        "\n",
        "> **Exercise 3**: Reverse engineering,\n",
        "\n",
        "This notebook is part of the 2024 Large Language Model Hackathon xCyber 2024 workshop by DTO."
      ],
      "metadata": {
        "id": "8Puj1seq-srB"
      }
    },
    {
      "cell_type": "markdown",
      "source": [
        "# Exercise 1\n",
        "Writing search queries"
      ],
      "metadata": {
        "id": "XrDoCULXXtdS"
      }
    },
    {
      "cell_type": "code",
      "source": [],
      "metadata": {
        "id": "iQ9gA0oYAjH_"
      },
      "execution_count": null,
      "outputs": []
    }
  ]
}